{
  "nbformat": 4,
  "nbformat_minor": 0,
  "metadata": {
    "colab": {
      "name": "Clasess and Objects.ipynb",
      "provenance": [],
      "authorship_tag": "ABX9TyPjAkbk1FcRVxFgGtDOS/Di",
      "include_colab_link": true
    },
    "kernelspec": {
      "name": "python3",
      "display_name": "Python 3"
    },
    "language_info": {
      "name": "python"
    }
  },
  "cells": [
    {
      "cell_type": "markdown",
      "metadata": {
        "id": "view-in-github",
        "colab_type": "text"
      },
      "source": [
        "<a href=\"https://colab.research.google.com/github/JuliusCaezarEugenio/OOP-1-1/blob/main/Clasess_and_Objects.ipynb\" target=\"_parent\"><img src=\"https://colab.research.google.com/assets/colab-badge.svg\" alt=\"Open In Colab\"/></a>"
      ]
    },
    {
      "cell_type": "markdown",
      "source": [
        "Application 2:Write python programs that displays full name of student, student number,age, course and school. Create a classname OOP_1_1 and create Info() method to display the information of student with fullname, student_no., age, course, school as attributes"
      ],
      "metadata": {
        "id": "xfY0CGh51pN5"
      }
    },
    {
      "cell_type": "code",
      "execution_count": 18,
      "metadata": {
        "colab": {
          "base_uri": "https://localhost:8080/"
        },
        "id": "gbnaXLO70N8o",
        "outputId": "c7c94489-67d4-41b2-c0ac-c1431fbd26a6"
      },
      "outputs": [
        {
          "output_type": "stream",
          "name": "stdout",
          "text": [
            "Julius Caezar R. Eugenio, 202101486; 19 years old - Computer Engineering - Cavite State University\n"
          ]
        }
      ],
      "source": [
        "class OOP_1_1:\n",
        "  def __init__(self,fullname,student_no,age,course,school):\n",
        "    self.fullname = fullname\n",
        "    self.student_no = student_no\n",
        "    self.age = age\n",
        "    self.course = course\n",
        "    self.school = school\n",
        "\n",
        "  def Info(self):\n",
        "      print(self.fullname,self.student_no,self.age,self.course,self.school)\n",
        "      #print(\"My Name is\", self.fullname)\n",
        "      #print(\"My Student Number is\", self.student_no)\n",
        "      #print(\"My Age is\", self.age)\n",
        "      #print(\"My Course is\", self.course)\n",
        "      #print(\"My School is\", self.school)\n",
        "\n",
        "student = OOP_1_1 (\"Julius Caezar R. Eugenio,\",\"202101486;\",\"19 years old\", \"- Computer Engineering -\", \"Cavite State University\")\n",
        "student.Info()"
      ]
    },
    {
      "cell_type": "markdown",
      "source": [
        "Application 3 - Define an Area() method of the class that calculate that circle's area. Define a Perimeter () method of the class which allows you to calculate the perimeter of the circle"
      ],
      "metadata": {
        "id": "ojSS2ToI7Nzg"
      }
    },
    {
      "cell_type": "code",
      "source": [
        "class Circle:\n",
        "  PI = 3.142\n",
        "\n",
        "  def __init__(self,radius):\n",
        "    self.radius = radius\n",
        "\n",
        "  def area (self):\n",
        "    print(Circle.PI * self.radius**2)\n",
        "\n",
        "  def perimeter (self):\n",
        "    print(2 *Circle.PI * self.radius)\n",
        "\n",
        "bilog = Circle (8)\n",
        "bilog.area ()\n",
        "bilog.perimeter()\n",
        "\n"
      ],
      "metadata": {
        "colab": {
          "base_uri": "https://localhost:8080/"
        },
        "id": "vlA6x7xt7knI",
        "outputId": "cf1f2900-ac8c-4d16-a402-bd96c87d30c1"
      },
      "execution_count": 24,
      "outputs": [
        {
          "output_type": "stream",
          "name": "stdout",
          "text": [
            "201.088\n",
            "50.272\n"
          ]
        }
      ]
    }
  ]
}