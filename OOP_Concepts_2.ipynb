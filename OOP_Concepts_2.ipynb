{
  "nbformat": 4,
  "nbformat_minor": 0,
  "metadata": {
    "colab": {
      "name": "OOP Concepts 2.ipynb",
      "provenance": [],
      "authorship_tag": "ABX9TyMMGH6PEYsaGHIYDpYZvK12",
      "include_colab_link": true
    },
    "kernelspec": {
      "name": "python3",
      "display_name": "Python 3"
    },
    "language_info": {
      "name": "python"
    }
  },
  "cells": [
    {
      "cell_type": "markdown",
      "metadata": {
        "id": "view-in-github",
        "colab_type": "text"
      },
      "source": [
        "<a href=\"https://colab.research.google.com/github/JuliusCaezarEugenio/OOP-1-1/blob/main/OOP_Concepts_2.ipynb\" target=\"_parent\"><img src=\"https://colab.research.google.com/assets/colab-badge.svg\" alt=\"Open In Colab\"/></a>"
      ]
    },
    {
      "cell_type": "markdown",
      "source": [
        "##Classes with Multiple Objects\n",
        "```\n",
        "\n"
      ],
      "metadata": {
        "id": "dROPGG9rKxtv"
      }
    },
    {
      "cell_type": "code",
      "execution_count": null,
      "metadata": {
        "id": "wCCy8oS3g6JE",
        "colab": {
          "base_uri": "https://localhost:8080/"
        },
        "outputId": "717c5ab3-8b17-442a-b4a6-10138ab702f0"
      },
      "outputs": [
        {
          "output_type": "stream",
          "name": "stdout",
          "text": [
            "Griffon Vulture flies above the sky\n",
            "Common Crane flies above the sky\n",
            "Emu is the national bird of Australia\n"
          ]
        }
      ],
      "source": [
        "class Birds:\n",
        "  def __init__(self,birds_name):\n",
        "    self.birds_name = birds_name\n",
        "  def flying_birds(self):\n",
        "    print(f\"{self.birds_name} flies above the sky\")\n",
        "  def non_flying_birds(self):\n",
        "    print(f\"{self.birds_name} is the national bird of Australia\")\n",
        "\n",
        "vulture = Birds(\"Griffon Vulture\")\n",
        "crane = Birds (\"Common Crane\")\n",
        "emu = Birds (\"Emu\")\n",
        "\n",
        "vulture.flying_birds()\n",
        "crane.flying_birds()\n",
        "emu.non_flying_birds()\n"
      ]
    },
    {
      "cell_type": "markdown",
      "source": [
        "##Encapsulation (mangling with double underscore)"
      ],
      "metadata": {
        "id": "wEJ6ooTGOwez"
      }
    },
    {
      "cell_type": "code",
      "source": [
        "class foo:\n",
        "  def __init__ (self,a,b):\n",
        "   self.__a = a\n",
        "   self.__b = b\n",
        "\n",
        "  def add(self):\n",
        "    return self.__a+self.__b\n",
        "\n",
        "object_foo= foo(3,4)\n",
        "object_foo.add()"
      ],
      "metadata": {
        "colab": {
          "base_uri": "https://localhost:8080/"
        },
        "id": "d0DBMgiaSboJ",
        "outputId": "c6fe3bb6-497b-473a-bf8d-b2d9fdea9f73"
      },
      "execution_count": null,
      "outputs": [
        {
          "output_type": "execute_result",
          "data": {
            "text/plain": [
              "7"
            ]
          },
          "metadata": {},
          "execution_count": 20
        }
      ]
    },
    {
      "cell_type": "code",
      "source": [
        "#Example 2\n",
        "class Counter:\n",
        "  def __init__(self):\n",
        "    self.__current= 0\n",
        "  def increment(self):\n",
        "    self.__current +=1\n",
        "  def value(self):\n",
        "    return self.__current\n",
        "  def reset(self):\n",
        "    self.__current=0\n",
        "\n",
        "number = Counter()\n",
        "number.__current = 1\n",
        "\n",
        "number = Counter()\n",
        "number.increment()\n",
        "number.increment()\n",
        "number.increment()\n",
        "\n",
        "\n",
        "print (number.value())\n",
        "\n"
      ],
      "metadata": {
        "colab": {
          "base_uri": "https://localhost:8080/"
        },
        "id": "JOXhjEhJR1Ep",
        "outputId": "181da1dd-168e-4b6b-b012-b8cc6c9d0f92"
      },
      "execution_count": null,
      "outputs": [
        {
          "output_type": "stream",
          "name": "stdout",
          "text": [
            "3\n"
          ]
        }
      ]
    },
    {
      "cell_type": "markdown",
      "source": [
        "##Inheritance"
      ],
      "metadata": {
        "id": "BGRotqIjU-OK"
      }
    },
    {
      "cell_type": "code",
      "source": [
        "class Person:\n",
        "  def __init__(self,Firstname,Surname):\n",
        "    self.Firstname = Firstname\n",
        "    self.Surname = Surname\n",
        "\n",
        "  def fullname(self):\n",
        "    print (self.Firstname, self.Surname)\n",
        "\n",
        "person = Person (\"Julius Caezar\", \"Eugenio\")\n",
        "person.fullname()\n",
        "\n",
        "class Student(Person):\n",
        "  pass\n",
        "\n",
        "person2 = Student(\"Julius Caezar\", \"Eugenio\")\n",
        "person2.fullname()\n"
      ],
      "metadata": {
        "colab": {
          "base_uri": "https://localhost:8080/"
        },
        "id": "v3txMXnlVB3m",
        "outputId": "5bc7c671-f063-4638-b787-dc2cc15b4622"
      },
      "execution_count": null,
      "outputs": [
        {
          "output_type": "stream",
          "name": "stdout",
          "text": [
            "Julius Caezar Eugenio\n",
            "Julius Caezar Eugenio\n"
          ]
        }
      ]
    },
    {
      "cell_type": "markdown",
      "source": [
        "##Polymorphism"
      ],
      "metadata": {
        "id": "HQZjBj8pXhzP"
      }
    },
    {
      "cell_type": "code",
      "source": [
        "class RegularPolygon:\n",
        "  def __init__ (self,side):\n",
        "    self.side = side\n",
        "\n",
        "class Square (RegularPolygon):\n",
        "  def area(self):\n",
        "    return self.side * self.side\n",
        "\n",
        "class EquilateralTriangle (RegularPolygon):\n",
        "  def area(self):\n",
        "    return self.side *self.side * 0.433\n",
        "\n",
        "obj1 = Square(4)\n",
        "print(obj1.area())\n",
        "\n",
        "obj2= EquilateralTriangle(3)\n",
        "print(obj2.area())\n"
      ],
      "metadata": {
        "colab": {
          "base_uri": "https://localhost:8080/"
        },
        "id": "f4zEZqjrXkAK",
        "outputId": "de33175e-91a4-4c26-8659-6ce5f34aa535"
      },
      "execution_count": null,
      "outputs": [
        {
          "output_type": "stream",
          "name": "stdout",
          "text": [
            "16\n",
            "3.897\n"
          ]
        }
      ]
    },
    {
      "cell_type": "markdown",
      "source": [
        "Application 1"
      ],
      "metadata": {
        "id": "XWf_B4C2ZiQf"
      }
    },
    {
      "cell_type": "markdown",
      "source": [
        "1. Create a Python program that displays the name of three students (Student 1, Student 2, and Student 3) and their term grades\n",
        "2. Create a class name Person and attributes - std1, std2, std2, pre, mid,fin\n",
        "3. Compute the average of eatch term grade using Grade() method\n",
        "4. Information about student's grades must be hidden from others"
      ],
      "metadata": {
        "id": "sHGopolJZCy2"
      }
    },
    {
      "cell_type": "code",
      "source": [
        "class Person:\n",
        "  def __init__(self,std1, std2, std3, pre, mid, fin):\n",
        "    self.__std1 = std1\n",
        "    self.__std2 = std2\n",
        "    self.__std3 = std3\n",
        "    self.__pre = pre\n",
        "    self.__mid = mid\n",
        "    self.__fin = fin\n",
        "  \n",
        "  def Student1(self):\n",
        "    print (\"\\n\" + self.__std1)\n",
        "    print (\"Prelims Grade:\", self.__pre)\n",
        "    print (\"Mid Terms Grade:\", self.__mid)\n",
        "    print (\"Final Grade:\", self.__fin)\n",
        "\n",
        "  def Student2(self):\n",
        "    print (\"\\n\"+ self.__std2)\n",
        "    print (\"Prelims Grade:\", self.__pre)\n",
        "    print (\"Mid Terms Grade:\",  self.__mid)\n",
        "    print (\"Final Grade: \",  self.__fin)\n",
        "\n",
        "  def Student3(self):\n",
        "    print (\"\\n\"+ self.__std3)\n",
        "    print (\"Prelims Grade:\",  self.__pre)\n",
        "    print (\"Mid Terms Grade:\", self.__mid)\n",
        "    print (\"Final Grade:\", self.__fin)\n",
        "\n",
        "\n",
        "  def Grade1(self): \n",
        "    return (self.__pre + self.__mid + self.__fin)/3\n",
        "  \n",
        "  def Grade2(self): \n",
        "    return (self.__pre + self.__mid + self.__fin)/3\n",
        "  \n",
        "  def Grade3(self): \n",
        "    return (self.__pre + self.__mid + self.__fin)/3\n",
        "\n",
        "\n",
        "  \n",
        "Estudyante1 = Person (\"Student 1\", \"-\", \"-\", 70,75,80)\n",
        "Estudyante1.Student1()\n",
        "print(Estudyante1.Grade1())\n",
        "\n",
        "Estudyante2 = Person (\"-\", \"Student 2\", \"-\", 80,85,90)\n",
        "Estudyante2.Student2()\n",
        "print(Estudyante2.Grade2())\n",
        "\n",
        "Estudyante3 = Person (\"-\", \"-\", \"Student3\", 90,95,100)\n",
        "Estudyante3.Student3()\n",
        "print(Estudyante3.Grade3())\n",
        "\n",
        "\n",
        "\n",
        "    "
      ],
      "metadata": {
        "colab": {
          "base_uri": "https://localhost:8080/"
        },
        "id": "LEjsJf5YCUjC",
        "outputId": "5d6f8f66-c0ac-4e1c-b3df-41f4ca2513b0"
      },
      "execution_count": null,
      "outputs": [
        {
          "output_type": "stream",
          "name": "stdout",
          "text": [
            "\n",
            "Student 1\n",
            "Prelims Grade: 70\n",
            "Mid Terms Grade: 75\n",
            "Final Grade: 80\n",
            "75.0\n",
            "\n",
            "Student 2\n",
            "Prelims Grade: 80\n",
            "Mid Terms Grade: 85\n",
            "Final Grade:  90\n",
            "85.0\n",
            "\n",
            "Student3\n",
            "Prelims Grade: 90\n",
            "Mid Terms Grade: 95\n",
            "Final Grade: 100\n",
            "95.0\n"
          ]
        }
      ]
    }
  ]
}