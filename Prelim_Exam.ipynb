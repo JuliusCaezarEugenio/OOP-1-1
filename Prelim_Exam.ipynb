{
  "nbformat": 4,
  "nbformat_minor": 0,
  "metadata": {
    "colab": {
      "name": "Prelim Exam.ipynb",
      "provenance": [],
      "authorship_tag": "ABX9TyMbYeJm4ulglqh7sPuj2epO",
      "include_colab_link": true
    },
    "kernelspec": {
      "name": "python3",
      "display_name": "Python 3"
    },
    "language_info": {
      "name": "python"
    }
  },
  "cells": [
    {
      "cell_type": "markdown",
      "metadata": {
        "id": "view-in-github",
        "colab_type": "text"
      },
      "source": [
        "<a href=\"https://colab.research.google.com/github/JuliusCaezarEugenio/OOP-1-1/blob/main/Prelim_Exam.ipynb\" target=\"_parent\"><img src=\"https://colab.research.google.com/assets/colab-badge.svg\" alt=\"Open In Colab\"/></a>"
      ]
    },
    {
      "cell_type": "code",
      "execution_count": 12,
      "metadata": {
        "colab": {
          "base_uri": "https://localhost:8080/"
        },
        "id": "RR9Oi-lW4KW9",
        "outputId": "a080ff50-3bbb-4a1f-ef48-2b37da1ecf72"
      },
      "outputs": [
        {
          "output_type": "stream",
          "name": "stdout",
          "text": [
            "Name: Julius Caezar R. Eugenio\n",
            "Student No: 202101486\n",
            "Age: 19\n",
            "School: Cavite State University\n",
            "Course: BS Computer Engineering\n"
          ]
        }
      ],
      "source": [
        "#Problem 2\n",
        "\n",
        "class Student:\n",
        "  def __init__ (self, Name, Student_No, Age, School, Course):\n",
        "    self.Name = Name\n",
        "    self.Student_No = Student_No\n",
        "    self.Age = Age\n",
        "    self.School = School\n",
        "    self.Course = Course\n",
        "\n",
        "  def Info(self):\n",
        "    print(\"Name:\", self.Name)\n",
        "    print(\"Student No:\", self.Student_No)\n",
        "    print(\"Age:\", self.Age)\n",
        "    print(\"School:\", self.School)\n",
        "    print(\"Course:\", self.Course)\n",
        "\n",
        "Myself = Student (\"Julius Caezar R. Eugenio\", \"202101486\", \"19\", \"Cavite State University\", \"BS Computer Engineering\")\n",
        "Myself.Info ()\n"
      ]
    }
  ]
}