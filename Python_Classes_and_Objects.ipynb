{
  "nbformat": 4,
  "nbformat_minor": 0,
  "metadata": {
    "colab": {
      "name": "Python Classes and Objects.ipynb",
      "provenance": [],
      "authorship_tag": "ABX9TyNiLnUvfKE2pBJe2p32/vzY",
      "include_colab_link": true
    },
    "kernelspec": {
      "name": "python3",
      "display_name": "Python 3"
    },
    "language_info": {
      "name": "python"
    }
  },
  "cells": [
    {
      "cell_type": "markdown",
      "metadata": {
        "id": "view-in-github",
        "colab_type": "text"
      },
      "source": [
        "<a href=\"https://colab.research.google.com/github/JuliusCaezarEugenio/OOP-1-1/blob/main/Python_Classes_and_Objects.ipynb\" target=\"_parent\"><img src=\"https://colab.research.google.com/assets/colab-badge.svg\" alt=\"Open In Colab\"/></a>"
      ]
    },
    {
      "cell_type": "markdown",
      "source": [
        "###Class\n"
      ],
      "metadata": {
        "id": "XnRV5GfCyxMK"
      }
    },
    {
      "cell_type": "code",
      "source": [
        "class MyClass:\n",
        "  pass            #create a class without declared variable and methods"
      ],
      "metadata": {
        "id": "lneprEJWy_Lq"
      },
      "execution_count": null,
      "outputs": []
    },
    {
      "cell_type": "code",
      "source": [
        "class MyClass:\n",
        "  def __init__(self,name,age,):\n",
        "    self.name = name            #create a class with attributes\n",
        "    self.age = age\n",
        "    \n",
        "  def display(self):\n",
        "      print(self.name,self.age)\n",
        "\n",
        "person = MyClass(\"Julius Caezar R. Eugenio\",19)    #create an object name\n",
        "\n",
        "print(person.name)                       \n",
        "print(person.age)\n",
        "person.display()                             #displays all attributes\n",
        "\n",
        "\n",
        "\n",
        "\n"
      ],
      "metadata": {
        "colab": {
          "base_uri": "https://localhost:8080/"
        },
        "id": "YyNbrGVNztmo",
        "outputId": "4fbf7e06-e7b2-4f4e-87b4-5ac938a9f2b1"
      },
      "execution_count": 19,
      "outputs": [
        {
          "output_type": "stream",
          "name": "stdout",
          "text": [
            "Julius Caezar R. Eugenio\n",
            "19\n",
            "Julius Caezar R. Eugenio 19\n"
          ]
        }
      ]
    },
    {
      "cell_type": "code",
      "source": [
        "#Application 1- Write a Python Program that computes for an area of rectangle: A = lxw\n",
        "\n",
        "class Rectangle:\n",
        "  def __init__(self,l,w):\n",
        "    self.l = l         #attribute names\n",
        "    self.w = w\n",
        "\n",
        "  def Area(self):\n",
        "    print(self.l*self.w)\n",
        "\n",
        "rect = Rectangle (7,3)\n",
        "rect.Area()\n"
      ],
      "metadata": {
        "colab": {
          "base_uri": "https://localhost:8080/"
        },
        "id": "VdMsN6kY3Jky",
        "outputId": "7da32d8d-efe2-4d3d-f8ea-258b00e4c96f"
      },
      "execution_count": 14,
      "outputs": [
        {
          "output_type": "stream",
          "name": "stdout",
          "text": [
            "21\n"
          ]
        }
      ]
    }
  ]
}