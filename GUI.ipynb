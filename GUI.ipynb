{
  "nbformat": 4,
  "nbformat_minor": 0,
  "metadata": {
    "colab": {
      "name": "GUI.ipynb",
      "provenance": [],
      "authorship_tag": "ABX9TyOnJ+YaEnlylPKbg891ZPNw",
      "include_colab_link": true
    },
    "kernelspec": {
      "name": "python3",
      "display_name": "Python 3"
    },
    "language_info": {
      "name": "python"
    }
  },
  "cells": [
    {
      "cell_type": "markdown",
      "metadata": {
        "id": "view-in-github",
        "colab_type": "text"
      },
      "source": [
        "<a href=\"https://colab.research.google.com/github/JuliusCaezarEugenio/OOP-1-1/blob/main/GUI.ipynb\" target=\"_parent\"><img src=\"https://colab.research.google.com/assets/colab-badge.svg\" alt=\"Open In Colab\"/></a>"
      ]
    },
    {
      "cell_type": "markdown",
      "source": [
        "Students' Grade in OOP"
      ],
      "metadata": {
        "id": "OkkoBno_lxBl"
      }
    },
    {
      "cell_type": "code",
      "execution_count": 8,
      "metadata": {
        "colab": {
          "base_uri": "https://localhost:8080/"
        },
        "id": "NXrzigy2lrgF",
        "outputId": "47cd9ee9-fc6b-4cb9-b74a-a4a32824318e"
      },
      "outputs": [
        {
          "output_type": "stream",
          "name": "stdout",
          "text": [
            "My prelim grade is 100\n",
            "My midterm grade is 95\n",
            "My finals grade is 100\n",
            "My semstral grade is 98.33\n",
            "My birthday is 2002-11-17\n"
          ]
        }
      ],
      "source": [
        "#@title Student's Grade in OOP\n",
        "Student_Name = \"Julius Caezar R. Eugenio\" #@param{type:\"string\"}\n",
        "Prelims = 100 #@param {type:\"integer\"}\n",
        "Midterms = 95 #@param {type:\"integer\"}\n",
        "Finals = 100 #@param {type:\"integer\"}\n",
        "Semestral_Grade =round((Prelims + Midterms + Finals)/3,2)\n",
        "\n",
        "print(\"My prelim grade is \" + str (Prelims))\n",
        "print(\"My midterm grade is \" + str (Midterms))\n",
        "print(\"My finals grade is \" + str (Finals))\n",
        "print(\"My semstral grade is \" + str (Semestral_Grade))\n",
        "\n",
        "Gender = \"Male\" #@param [\"Male\",\"Female\"]\n",
        "Birthdate = '2002-11-17' #@param {type:\"date\"}\n",
        "\n",
        "print(\"My birthday is \" + Birthdate)"
      ]
    }
  ]
}